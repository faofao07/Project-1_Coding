{
  "nbformat": 4,
  "nbformat_minor": 0,
  "metadata": {
    "colab": {
      "provenance": [],
      "authorship_tag": "ABX9TyMQBgQKTa40Xy5aQwhCQs4b",
      "include_colab_link": true
    },
    "kernelspec": {
      "name": "python3",
      "display_name": "Python 3"
    },
    "language_info": {
      "name": "python"
    }
  },
  "cells": [
    {
      "cell_type": "markdown",
      "metadata": {
        "id": "view-in-github",
        "colab_type": "text"
      },
      "source": [
        "<a href=\"https://colab.research.google.com/github/faofao07/Project-1_Coding/blob/main/07_Faofao.ipynb\" target=\"_parent\"><img src=\"https://colab.research.google.com/assets/colab-badge.svg\" alt=\"Open In Colab\"/></a>"
      ]
    },
    {
      "cell_type": "markdown",
      "source": [
        "##เลขที่ 7 เฟาเฟา ศาสตรพล ดงอุเทน\n",
        "No. 7 Faofao Sardtarapon Dongoutan"
      ],
      "metadata": {
        "id": "QkEOF7BIcUPe"
      }
    },
    {
      "cell_type": "markdown",
      "source": [
        "20 May 2024\n",
        "\n",
        "- การใช้คำสั่ง print"
      ],
      "metadata": {
        "id": "M9cYHwmlCCYp"
      }
    },
    {
      "cell_type": "code",
      "execution_count": null,
      "metadata": {
        "id": "t_EV9lQtbFFu",
        "colab": {
          "base_uri": "https://localhost:8080/"
        },
        "outputId": "ec8c5a15-ac2d-48b9-8a5e-f7fa2a03aa50"
      },
      "outputs": [
        {
          "output_type": "stream",
          "name": "stdout",
          "text": [
            "Hello world I'm Prof. Faofao\n"
          ]
        }
      ],
      "source": [
        "print(\"Hello world I'm Prof. Faofao\")"
      ]
    },
    {
      "cell_type": "code",
      "source": [
        "print(\"You got a new job !? That's so exciting\")"
      ],
      "metadata": {
        "colab": {
          "base_uri": "https://localhost:8080/"
        },
        "id": "irckaSKpFdjx",
        "outputId": "4843485a-c32f-4b43-822b-f84186c474d2"
      },
      "execution_count": null,
      "outputs": [
        {
          "output_type": "stream",
          "name": "stdout",
          "text": [
            "You got a new job !? That's so exciting\n"
          ]
        }
      ]
    },
    {
      "cell_type": "markdown",
      "source": [
        "29 May 2024\n",
        "\n",
        "* การใช้ตัวแปร ห้ามขึ้นด้วยตัวเลข ห้ามเว้นวรรค มีความหมายไม่ควรขึ้นด้วย ตัวอักษรพิมพ์ใหญ่\n",
        "*  type: int , float , str"
      ],
      "metadata": {
        "id": "oC6eNqMJZKQG"
      }
    },
    {
      "cell_type": "code",
      "source": [
        "a = 2\n",
        "b = 1.5\n",
        "c = \"Faofao\"\n",
        "\n",
        "type(c)\n",
        "\n",
        "print(\"ตัวแปรที่ฉันคิดคือ lesson\")"
      ],
      "metadata": {
        "colab": {
          "base_uri": "https://localhost:8080/"
        },
        "id": "dfGiiiROZRes",
        "outputId": "98079818-2ea9-4777-f035-b6f25ffc0511"
      },
      "execution_count": null,
      "outputs": [
        {
          "output_type": "stream",
          "name": "stdout",
          "text": [
            "ตัวแปรที่ฉันคิดคือ lesson\n"
          ]
        }
      ]
    },
    {
      "cell_type": "code",
      "source": [
        "numeric1 = 5\n",
        "\n",
        "print(numeric1 )\n",
        "\n",
        "type(numeric1)"
      ],
      "metadata": {
        "colab": {
          "base_uri": "https://localhost:8080/"
        },
        "id": "0x-ffJC4kQ6n",
        "outputId": "ded54f1b-89f8-433c-cf2a-cdb5aee4a654"
      },
      "execution_count": null,
      "outputs": [
        {
          "output_type": "stream",
          "name": "stdout",
          "text": [
            "5\n"
          ]
        },
        {
          "output_type": "execute_result",
          "data": {
            "text/plain": [
              "int"
            ]
          },
          "metadata": {},
          "execution_count": 11
        }
      ]
    },
    {
      "cell_type": "markdown",
      "source": [],
      "metadata": {
        "id": "xiFURvlZtydQ"
      }
    },
    {
      "cell_type": "markdown",
      "source": [
        "5 June 2024\n",
        "\n",
        "* index การนับเริ่มจาก 0 ไป 1 2 3... และถ้าย้อยหลังเริ่มนับจาก -1 มา -2 -3... ใช้ [x] เพื่อ index ให้ x เป็นตัวเลขที่จะ index\n",
        "ตัวอย่าง: Python เป็น 0 1 2 3 4\n",
        "\n",
        "* ความสัมพันธ์ของคอมพิวเตอร์ กับการเขียนโปรแกรม\n",
        "1. input นำเข้า: เขียนโค้ดลงโปรแกรม\n",
        "2. process ประมวลผล: โปรแกรมประมวลผลโค้ดที่ได้รับออกมาเป็นผลลัพธ์\n",
        "3. output แสดงผล: โปรแกรมแสดงผลลัพธ์ที่ประมวลผลแล้ว"
      ],
      "metadata": {
        "id": "0QxTETpPWY46"
      }
    },
    {
      "cell_type": "code",
      "source": [
        "string1 = 'Python'\n",
        "print(string1[0])"
      ],
      "metadata": {
        "colab": {
          "base_uri": "https://localhost:8080/"
        },
        "id": "kiALFZ8VYc5-",
        "outputId": "2c990d4a-5b40-4be7-a330-b79a96980374"
      },
      "execution_count": null,
      "outputs": [
        {
          "output_type": "stream",
          "name": "stdout",
          "text": [
            "P\n"
          ]
        }
      ]
    },
    {
      "cell_type": "markdown",
      "source": [
        "26 June 2024\n",
        "\n",
        "* input: การนำเข้าข้อมูล และการแสดงผลของข้อมูล (print)"
      ],
      "metadata": {
        "id": "WPINQn0wt4hJ"
      }
    },
    {
      "cell_type": "code",
      "source": [
        "\n",
        "name = input(\"กรุณากรอกชื่อของท่าน\")\n",
        "print(\"ยินดีต้อนรับคุณ\" + name)"
      ],
      "metadata": {
        "colab": {
          "base_uri": "https://localhost:8080/"
        },
        "id": "jTEoMGX5ug0e",
        "outputId": "0a040c99-3102-49fa-fb44-fe4205d9924a"
      },
      "execution_count": null,
      "outputs": [
        {
          "output_type": "stream",
          "name": "stdout",
          "text": [
            "กรุณากรอกชื่อของท่านกรกช\n",
            "ยินดีต้อนรับคุณกรกช\n"
          ]
        }
      ]
    },
    {
      "cell_type": "code",
      "source": [
        "side = int(input(\"ความยาวด้านคือ (ซม.) คือ\"))\n",
        "area = side * side\n",
        "print(\"พื้นที่สี่เหลี่ยทมจัตุรัส เท่ากับ\", area, \"ตร.ซม.\")"
      ],
      "metadata": {
        "colab": {
          "base_uri": "https://localhost:8080/"
        },
        "id": "3RnlEu0Zy4UW",
        "outputId": "b3c01a97-466f-4219-b7c4-c6ef9a67118b"
      },
      "execution_count": null,
      "outputs": [
        {
          "output_type": "stream",
          "name": "stdout",
          "text": [
            "ความยาวด้านคือ (ซม.) คือ9\n",
            "พื้นที่สี่เหลี่ยทมจัตุรัส เท่ากับ 81 ตร.ซม.\n"
          ]
        }
      ]
    },
    {
      "cell_type": "markdown",
      "source": [
        "1 July 2024"
      ],
      "metadata": {
        "id": "s9PeR7ojOaSm"
      }
    },
    {
      "cell_type": "code",
      "source": [
        "width = int(input(\"ความกว้าง (ซม.) คือ\"))\n",
        "lenght = int(input(\"ความยาว (ซม.) คือ\"))\n",
        "area = width * lenght\n",
        "print(\"พื้นที่สี่เหลี่ยมผืนผ้า เท่ากับ\", area, \"ตร.ซม.\")"
      ],
      "metadata": {
        "colab": {
          "base_uri": "https://localhost:8080/"
        },
        "id": "sw4hK3-MPp5x",
        "outputId": "183af215-3e1e-4ff3-dfb3-40fd33b99bae"
      },
      "execution_count": null,
      "outputs": [
        {
          "output_type": "stream",
          "name": "stdout",
          "text": [
            "ความกว้าง (ซม.) คือ20\n",
            "ความยาว (ซม.) คือ4\n",
            "พื้นที่สี่เหลี่ยมผืนผ้า เท่ากับ 80 ตร.ซม.\n"
          ]
        }
      ]
    },
    {
      "cell_type": "code",
      "source": [
        "s = int(input(\"ระยะทาง (เมตร ; m) คือ\"))\n",
        "t = int(input(\"เวลา (วินาที ; s) คือ\"))\n",
        "v = s / t\n",
        "print(\"อัตราเร็ว เท่ากับ\", v, \"เมตรต่อวินาที (m/s)\")"
      ],
      "metadata": {
        "colab": {
          "base_uri": "https://localhost:8080/"
        },
        "id": "DZsVt50yRqiX",
        "outputId": "13e9ac47-f992-4bf7-b157-a99f1a7b1449"
      },
      "execution_count": null,
      "outputs": [
        {
          "output_type": "stream",
          "name": "stdout",
          "text": [
            "ระยะทาง (เมตร ; m) คือ45\n",
            "เวลา (วินาที ; s) คือ9\n",
            "อัตราเร็ว เท่ากับ 5.0 เมตรต่อวินาที (m/s)\n"
          ]
        }
      ]
    },
    {
      "cell_type": "code",
      "source": [
        "print(\"Sleepy คำนวณค่า BMI โดยครูพี่เฟา รับสอนคณิต และฟิสิกส์ ม.ต้น ม.ปลาย\")\n",
        "name = str(input(\"\\nชื่อผู้ใช้ \"))\n",
        "weigh = float(input(\"น้ำหนักของคุณ (กก.) คือ \"))\n",
        "height = float(input(\"ส่วนสูงของคุณ (เมตร) คือ \"))\n",
        "bmi = weigh / (height * height)\n",
        "print(\"\\nสวัสดีครับ สถาบัน Sleepy ยินดีต้อนรับคุณ\", name, \"ทางเราขอนำเสนอโปรแกรมคำนวณค่าดัชนีมวลกาย (BMI) \\nค่าดัชนีมวลกายของคุณคือ\", bmi, \"กิโลกรัมต่อเมตรกำลังสอง\")"
      ],
      "metadata": {
        "colab": {
          "base_uri": "https://localhost:8080/"
        },
        "id": "Nk_kPHQZXwN-",
        "outputId": "4a4f5197-ee85-4e98-b92d-631307ff83b6"
      },
      "execution_count": null,
      "outputs": [
        {
          "output_type": "stream",
          "name": "stdout",
          "text": [
            "Sleepy คำนวณค่า BMI โดยครูพี่เฟา รับสอนคณิต และฟิสิกส์ ม.ต้น ม.ปลาย\n",
            "\n",
            "ชื่อผู้ใช้ Fao\n",
            "น้ำหนักของคุณ (กก.) คือ 76\n",
            "ส่วนสูงของคุณ (เมตร) คือ 1.69\n",
            "\n",
            "สวัสดีครับ สถาบัน Sleepy ยินดีต้อนรับคุณ Fao ทางเราขอนำเสนอโปรแกรมคำนวณค่าดัชนีมวลกาย (BMI) \n",
            "ค่าดัชนีมวลกายของคุณคือ 26.609712545078956 กิโลกรัมต่อเมตรกำลังสอง\n"
          ]
        }
      ]
    }
  ]
}